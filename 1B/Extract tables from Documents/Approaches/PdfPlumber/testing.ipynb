{
 "cells": [
  {
   "cell_type": "code",
   "execution_count": null,
   "metadata": {},
   "outputs": [],
   "source": [
    "!pip install pdfplumber\n",
    "import pandas as pd"
   ]
  },
  {
   "cell_type": "code",
   "execution_count": 2,
   "metadata": {},
   "outputs": [
    {
     "name": "stdout",
     "output_type": "stream",
     "text": [
      "{'matrix': (0.75, 0.0, 0.0, 0.75, 72.0, 738.75), 'fontname': 'ArialMT', 'adv': 6.66796872, 'upright': True, 'x0': 72.0, 'y0': 734.93554692, 'x1': 77.00097654, 'y1': 752.93554692, 'width': 5.000976539999996, 'height': 18.0, 'size': 18.0, 'mcid': None, 'tag': None, 'object_type': 'char', 'page_number': 1, 'ncs': 'DeviceRGB', 'text': ' ', 'stroking_color': None, 'stroking_pattern': None, 'non_stroking_color': None, 'non_stroking_pattern': None, 'top': 39.06445308000002, 'bottom': 57.06445308000002, 'doctop': 39.06445308000002}\n"
     ]
    }
   ],
   "source": [
    "import pdfplumber\n",
    "\n",
    "with pdfplumber.open(\"./results.pdf\") as pdf:\n",
    "    first_page = pdf.pages[0]\n",
    "    print(first_page.chars[0])"
   ]
  },
  {
   "cell_type": "code",
   "execution_count": 5,
   "metadata": {},
   "outputs": [],
   "source": [
    "p0 = pdf.pages[0]"
   ]
  },
  {
   "cell_type": "code",
   "execution_count": 6,
   "metadata": {},
   "outputs": [],
   "source": [
    "im = p0.to_image()"
   ]
  },
  {
   "cell_type": "code",
   "execution_count": 8,
   "metadata": {},
   "outputs": [
    {
     "data": {
      "image/png": "[encoded data removed]",
      "text/plain": [
       "<pdfplumber.display.PageImage at 0x24737cce970>"
      ]
     },
     "execution_count": 8,
     "metadata": {},
     "output_type": "execute_result"
    }
   ],
   "source": [
    "im.draw_rects(p0.extract_words())"
   ]
  },
  {
   "cell_type": "code",
   "execution_count": 45,
   "metadata": {},
   "outputs": [
    {
     "name": "stdout",
     "output_type": "stream",
     "text": [
      "Page0\n",
      "'NoneType' object is not subscriptable\n",
      "Page1\n",
      "'NoneType' object is not subscriptable\n",
      "Page2\n",
      "'NoneType' object is not subscriptable\n",
      "Page3\n",
      "'NoneType' object is not subscriptable\n",
      "Page4\n",
      "Page5\n",
      "'NoneType' object is not subscriptable\n",
      "Page6\n",
      "'NoneType' object is not subscriptable\n",
      "Page7\n",
      "'NoneType' object is not subscriptable\n",
      "Page8\n",
      "'NoneType' object is not subscriptable\n",
      "Page9\n",
      "'NoneType' object is not subscriptable\n",
      "Page10\n",
      "'NoneType' object is not subscriptable\n",
      "Page11\n",
      "'NoneType' object is not subscriptable\n",
      "Page12\n",
      "'NoneType' object is not subscriptable\n",
      "list index out of range\n",
      "list index out of range\n",
      "list index out of range\n",
      "list index out of range\n",
      "list index out of range\n",
      "list index out of range\n",
      "list index out of range\n",
      "list index out of range\n",
      "list index out of range\n",
      "list index out of range\n",
      "list index out of range\n"
     ]
    }
   ],
   "source": [
    "pdf = pdfplumber.open(r\"C:\\Users\\FUT_Surya\\Downloads\\2310.04034v1.pdf\")\n",
    "\n",
    "try:\n",
    "    for i in range(24):\n",
    "        try:\n",
    "            page = pdf.pages[i]\n",
    "            df = page.extract_table()\n",
    "            print(f\"Page{i}\")\n",
    "            pd.DataFrame(df[2:],columns=df[0]).to_csv(f\"Results_{i}.csv\")\n",
    "        except Exception as e:\n",
    "            print(e)\n",
    "        \n",
    "except Exception as e:\n",
    "    print(e)\n"
   ]
  },
  {
   "cell_type": "code",
   "execution_count": null,
   "metadata": {},
   "outputs": [],
   "source": []
  }
 ],
 "metadata": {
  "kernelspec": {
   "display_name": "jarvis",
   "language": "python",
   "name": "python3"
  },
  "language_info": {
   "codemirror_mode": {
    "name": "ipython",
    "version": 3
   },
   "file_extension": ".py",
   "mimetype": "text/x-python",
   "name": "python",
   "nbconvert_exporter": "python",
   "pygments_lexer": "ipython3",
   "version": "3.8.18"
  }
 },
 "nbformat": 4,
 "nbformat_minor": 2
}
